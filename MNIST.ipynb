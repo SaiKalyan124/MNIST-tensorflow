{
 "cells": [
  {
   "cell_type": "code",
   "execution_count": 3,
   "metadata": {
    "colab": {
     "base_uri": "https://localhost:8080/"
    },
    "id": "cne8loURByQ9",
    "outputId": "e6a2c6bc-39db-40cc-eccd-2859a867beba"
   },
   "outputs": [
    {
     "name": "stdout",
     "output_type": "stream",
     "text": [
      "Collecting python-mnist\n",
      "  Downloading python_mnist-0.7-py2.py3-none-any.whl (9.6 kB)\n",
      "Installing collected packages: python-mnist\n",
      "Successfully installed python-mnist-0.7\n"
     ]
    }
   ],
   "source": [
    " pip install python-mnist"
   ]
  },
  {
   "cell_type": "code",
   "execution_count": 4,
   "metadata": {
    "colab": {
     "base_uri": "https://localhost:8080/"
    },
    "id": "el4YeTsQB0i3",
    "outputId": "558c95c3-940b-4c53-a224-21be646427bf"
   },
   "outputs": [
    {
     "name": "stdout",
     "output_type": "stream",
     "text": [
      "Mounted at /content/drive\n"
     ]
    }
   ],
   "source": [
    "import tensorflow as tf\n",
    "from tensorflow import keras\n",
    "from tensorflow.keras import layers\n",
    "import numpy as np\n",
    "from keras.utils import np_utils\n",
    "import statistics\n",
    "from mnist import MNIST\n",
    "import os\n",
    "from sklearn.model_selection import train_test_split\n",
    "from numpy import random\n",
    "from google.colab import drive\n",
    "\n",
    "\n",
    "drive.mount('/content/drive', force_remount=True)"
   ]
  },
  {
   "cell_type": "code",
   "execution_count": 5,
   "metadata": {
    "colab": {
     "base_uri": "https://localhost:8080/"
    },
    "id": "BbhmA-I6B0lu",
    "outputId": "94c01589-34a5-44dc-97de-290f0a458ce0"
   },
   "outputs": [
    {
     "name": "stdout",
     "output_type": "stream",
     "text": [
      "/content/drive/MyDrive\n"
     ]
    }
   ],
   "source": [
    "cd /content/drive/MyDrive/\n"
   ]
  },
  {
   "cell_type": "code",
   "execution_count": 6,
   "metadata": {
    "id": "n5-l6JUNB0oW"
   },
   "outputs": [],
   "source": [
    "mndata = MNIST('mnist')\n",
    "X_train, y_train = mndata.load_training()\n",
    "X_test, y_test = mndata.load_testing()"
   ]
  },
  {
   "cell_type": "code",
   "execution_count": 7,
   "metadata": {
    "id": "0PHk_dIdB0rI"
   },
   "outputs": [],
   "source": [
    "X_train = np.array(X_train)\n",
    "X_test = np.array(X_test)\n",
    "\n",
    "# Convert output to categorical\n",
    "y_train = np_utils.to_categorical(y_train)\n",
    "y_test = np_utils.to_categorical(y_test)"
   ]
  },
  {
   "cell_type": "code",
   "execution_count": 8,
   "metadata": {
    "colab": {
     "base_uri": "https://localhost:8080/",
     "height": 282
    },
    "id": "dkfD6nbaB0wi",
    "outputId": "afa8563d-5e2b-4a79-ffc3-967e93c9af2d"
   },
   "outputs": [
    {
     "data": {
      "image/png": "[encoded data removed]",
      "text/plain": [
       "<Figure size 432x288 with 1 Axes>"
      ]
     },
     "metadata": {
      "needs_background": "light"
     },
     "output_type": "display_data"
    },
    {
     "name": "stdout",
     "output_type": "stream",
     "text": [
      "[0. 0. 0. 1. 0. 0. 0. 0. 0. 0.]\n"
     ]
    }
   ],
   "source": [
    "import matplotlib.pyplot as plt\n",
    "import numpy as np\n",
    "\n",
    "id = 7\n",
    "\n",
    "image = np.array(X_train[id], dtype='float')\n",
    "pixels = image.reshape((28, 28))\n",
    "plt.imshow(pixels, cmap='gray')\n",
    "plt.show()\n",
    "\n",
    "# print(X_train[id])\n",
    "print(y_train[id])"
   ]
  },
  {
   "cell_type": "code",
   "execution_count": 9,
   "metadata": {
    "colab": {
     "base_uri": "https://localhost:8080/"
    },
    "id": "PLxoUyzeB0zd",
    "outputId": "cb409602-2fe3-4205-cda8-19b54e45413f"
   },
   "outputs": [
    {
     "name": "stdout",
     "output_type": "stream",
     "text": [
      "1875/1875 [==============================] - 6s 3ms/step - loss: 10.8994 - accuracy: 0.1119 - val_loss: 2.3011 - val_accuracy: 0.1135\n",
      "Test Accuracy: 0.11349999904632568\n",
      "Test Loss: 2.301058769226074\n"
     ]
    }
   ],
   "source": [
    "# SGD Optimizer\n",
    "opt1 = keras.Sequential(\n",
    "    [\n",
    "        layers.Dense(32, activation=\"relu\", name=\"layer1\"),\n",
    "        layers.Dense(10, activation='softmax', name='outputlayer')\n",
    "    ]\n",
    ")\n",
    "opt1.compile(optimizer=\"SGD\", loss='categorical_crossentropy', metrics=['accuracy'])\n",
    "\n",
    "history = opt1.fit(X_train, y_train, epochs=1, batch_size=32, validation_data=(X_test, y_test))\n",
    "\n",
    "loss, acc = opt1.evaluate(X_test, y_test, verbose=0)\n",
    "print('Test Accuracy:', acc)\n",
    "print('Test Loss:', loss)"
   ]
  },
  {
   "cell_type": "code",
   "execution_count": 10,
   "metadata": {
    "colab": {
     "base_uri": "https://localhost:8080/"
    },
    "id": "KEbcSRfXCSEw",
    "outputId": "e2c5e21b-d665-44b9-a81a-71f42b667881"
   },
   "outputs": [
    {
     "name": "stdout",
     "output_type": "stream",
     "text": [
      "1875/1875 [==============================] - 6s 3ms/step - loss: 2.1818 - accuracy: 0.4481 - val_loss: 1.0540 - val_accuracy: 0.6022\n",
      "Test Accuracy: 0.6021999716758728\n",
      "Test Loss: 1.0539900064468384\n"
     ]
    }
   ],
   "source": [
    "# adam Optimizer\n",
    "opt2 = keras.Sequential(\n",
    "    [\n",
    "        layers.Dense(32, activation=\"relu\", name=\"layer1\"),\n",
    "        layers.Dense(10, activation='softmax', name='outputlayer')\n",
    "    ]\n",
    ")\n",
    "opt2.compile(optimizer=\"adam\", loss='categorical_crossentropy', metrics=['accuracy'])\n",
    "\n",
    "history = opt2.fit(X_train, y_train, epochs=1, batch_size=32, validation_data=(X_test, y_test))\n",
    "\n",
    "loss, acc = opt2.evaluate(X_test, y_test, verbose=0)\n",
    "print('Test Accuracy:', acc)\n",
    "print('Test Loss:', loss)"
   ]
  },
  {
   "cell_type": "code",
   "execution_count": 11,
   "metadata": {
    "colab": {
     "base_uri": "https://localhost:8080/"
    },
    "id": "_3Jj022QCSOc",
    "outputId": "7e686f23-1a46-4ad1-d951-58a979529c6e"
   },
   "outputs": [
    {
     "name": "stdout",
     "output_type": "stream",
     "text": [
      "1875/1875 [==============================] - 6s 3ms/step - loss: 2.0744 - accuracy: 0.7231 - val_loss: 1.0366 - val_accuracy: 0.8360\n",
      "Test Accuracy: 0.8360000252723694\n",
      "Test Loss: 1.0365811586380005\n"
     ]
    }
   ],
   "source": [
    "# RMSprop Optimizer\n",
    "opt3 = keras.Sequential(\n",
    "    [\n",
    "        layers.Dense(32, activation=\"relu\", name=\"layer1\"),\n",
    "        layers.Dense(10, activation='softmax', name='outputlayer')\n",
    "    ]\n",
    ")\n",
    "opt3.compile(optimizer=\"RMSprop\", loss='categorical_crossentropy', metrics=['accuracy'])\n",
    "\n",
    "history = opt3.fit(X_train, y_train, epochs=1, batch_size=32, validation_data=(X_test, y_test))\n",
    "\n",
    "loss, acc = opt3.evaluate(X_test, y_test, verbose=0)\n",
    "print('Test Accuracy:', acc)\n",
    "print('Test Loss:', loss)"
   ]
  },
  {
   "cell_type": "code",
   "execution_count": 12,
   "metadata": {
    "colab": {
     "base_uri": "https://localhost:8080/"
    },
    "id": "gg7rC4x1CSSQ",
    "outputId": "81abb066-7b75-4dd8-eaf7-14e5254f176c"
   },
   "outputs": [
    {
     "name": "stdout",
     "output_type": "stream",
     "text": [
      "1875/1875 [==============================] - 6s 3ms/step - loss: 6.2332 - accuracy: 0.4248 - val_loss: 2.2979 - val_accuracy: 0.4172\n",
      "Test Accuracy: 0.4171999990940094\n",
      "Test Loss: 2.2978832721710205\n"
     ]
    }
   ],
   "source": [
    "# adagrad Optimizer\n",
    "opt4 = keras.Sequential(\n",
    "    [\n",
    "        layers.Dense(32, activation=\"relu\", name=\"layer1\"),\n",
    "        layers.Dense(10, activation='softmax', name='outputlayer')\n",
    "    ]\n",
    ")\n",
    "opt4.compile(optimizer=\"adagrad\", loss='categorical_crossentropy', metrics=['accuracy'])\n",
    "\n",
    "history = opt4.fit(X_train, y_train, epochs=1, batch_size=32, validation_data=(X_test, y_test))\n",
    "\n",
    "loss, acc = opt4.evaluate(X_test, y_test, verbose=0)\n",
    "print('Test Accuracy:', acc)\n",
    "print('Test Loss:', loss)"
   ]
  },
  {
   "cell_type": "code",
   "execution_count": 12,
   "metadata": {
    "id": "noKFzrFVCSjZ"
   },
   "outputs": [],
   "source": []
  },
  {
   "cell_type": "code",
   "execution_count": 13,
   "metadata": {
    "id": "pqbVoksbB01j"
   },
   "outputs": [],
   "source": [
    "\n",
    "def get_train_valid_data(X, y):\n",
    "  \"\"\"\n",
    "  Method to split training data into sub training data and CV data randomly eachtime this method is called\n",
    "  \"\"\"\n",
    "  return train_test_split(X, y, test_size=0.166, shuffle=True, random_state=random.randint(100))"
   ]
  },
  {
   "cell_type": "code",
   "execution_count": 20,
   "metadata": {
    "colab": {
     "base_uri": "https://localhost:8080/"
    },
    "id": "qY7gWaiHB04Z",
    "outputId": "ee851111-d003-44ec-b345-9e1fdc70b2a0"
   },
   "outputs": [
    {
     "name": "stdout",
     "output_type": "stream",
     "text": [
      "Epoch 1/2\n",
      "1564/1564 [==============================] - 7s 3ms/step - loss: 1.8075 - accuracy: 0.6712 - val_loss: 0.9088 - val_accuracy: 0.8166\n",
      "Epoch 2/2\n",
      "1564/1564 [==============================] - 5s 3ms/step - loss: 0.7248 - accuracy: 0.8459 - val_loss: 0.6514 - val_accuracy: 0.8696\n",
      "Epoch 1/2\n",
      "1564/1564 [==============================] - 8s 4ms/step - loss: 1.8394 - accuracy: 0.5999 - val_loss: 0.9038 - val_accuracy: 0.7613\n",
      "Epoch 2/2\n",
      "1564/1564 [==============================] - 6s 4ms/step - loss: 0.8492 - accuracy: 0.8170 - val_loss: 0.8181 - val_accuracy: 0.8430\n",
      "Epoch 1/2\n",
      "1564/1564 [==============================] - 5s 3ms/step - loss: 2.0860 - accuracy: 0.7075 - val_loss: 0.8438 - val_accuracy: 0.8514\n",
      "Epoch 2/2\n",
      "1564/1564 [==============================] - 4s 3ms/step - loss: 0.7651 - accuracy: 0.8587 - val_loss: 0.7090 - val_accuracy: 0.8777\n",
      "Epoch 1/2\n",
      "1564/1564 [==============================] - 5s 3ms/step - loss: 2.2102 - accuracy: 0.7000 - val_loss: 1.1392 - val_accuracy: 0.8427\n",
      "Epoch 2/2\n",
      "1564/1564 [==============================] - 5s 3ms/step - loss: 0.7866 - accuracy: 0.8576 - val_loss: 0.7952 - val_accuracy: 0.8788\n",
      "Epoch 1/2\n",
      "1564/1564 [==============================] - 6s 3ms/step - loss: 2.0218 - accuracy: 0.7194 - val_loss: 0.8831 - val_accuracy: 0.8370\n",
      "Epoch 2/2\n",
      "1564/1564 [==============================] - 5s 3ms/step - loss: 0.7367 - accuracy: 0.8636 - val_loss: 0.8504 - val_accuracy: 0.8722\n",
      "Epoch 1/2\n",
      "1564/1564 [==============================] - 5s 3ms/step - loss: 2.1549 - accuracy: 0.6560 - val_loss: 0.9862 - val_accuracy: 0.7588\n",
      "Epoch 2/2\n",
      "1564/1564 [==============================] - 4s 3ms/step - loss: 0.9217 - accuracy: 0.8025 - val_loss: 0.8929 - val_accuracy: 0.8089\n",
      "Epoch 1/2\n",
      "1564/1564 [==============================] - 5s 3ms/step - loss: 2.1181 - accuracy: 0.6677 - val_loss: 0.9330 - val_accuracy: 0.7892\n",
      "Epoch 2/2\n",
      "1564/1564 [==============================] - 4s 3ms/step - loss: 0.8471 - accuracy: 0.8261 - val_loss: 0.8013 - val_accuracy: 0.8393\n",
      "Epoch 1/2\n",
      "1564/1564 [==============================] - 7s 4ms/step - loss: 1.8608 - accuracy: 0.7003 - val_loss: 0.8830 - val_accuracy: 0.8420\n",
      "Epoch 2/2\n",
      "1564/1564 [==============================] - 6s 4ms/step - loss: 0.7869 - accuracy: 0.8545 - val_loss: 0.6929 - val_accuracy: 0.8545\n",
      "Epoch 1/2\n",
      "1564/1564 [==============================] - 5s 3ms/step - loss: 1.7682 - accuracy: 0.6094 - val_loss: 0.8367 - val_accuracy: 0.7820\n",
      "Epoch 2/2\n",
      "1564/1564 [==============================] - 5s 3ms/step - loss: 0.8010 - accuracy: 0.8080 - val_loss: 0.6827 - val_accuracy: 0.8519\n",
      "Epoch 1/2\n",
      "1564/1564 [==============================] - 5s 3ms/step - loss: 2.0375 - accuracy: 0.7121 - val_loss: 0.7468 - val_accuracy: 0.8210\n",
      "Epoch 2/2\n",
      "1564/1564 [==============================] - 4s 3ms/step - loss: 0.7458 - accuracy: 0.8604 - val_loss: 0.6210 - val_accuracy: 0.8862\n",
      "Average Test Accuracy: 0.8625299990177154\n"
     ]
    }
   ],
   "source": [
    "# Architecure 1\n",
    "acc_list = []\n",
    "for i in range(10):\n",
    "  sub_X_train, sub_X_cv, sub_y_train, sub_y_cv = get_train_valid_data(X_train, y_train)\n",
    "# Using RMS prop optimizer\n",
    "  model1 = keras.Sequential(\n",
    "      [\n",
    "          layers.Dense(32, activation=\"relu\", name=\"layer1\"),\n",
    "          layers.Dense(10, activation='softmax', name='outputlayer')\n",
    "      ]\n",
    "  )\n",
    "  model1.compile(optimizer=\"RMSprop\", loss='categorical_crossentropy', metrics=['accuracy'])\n",
    "\n",
    "  history = model1.fit(sub_X_train, sub_y_train, epochs=2, batch_size=32, validation_data=(sub_X_cv, sub_y_cv))\n",
    "\n",
    "  loss, acc = model1.evaluate(X_test, y_test, verbose=0)\n",
    "  acc_list.append(acc)\n",
    "print(\"Average Test Accuracy:\", statistics.mean(acc_list))  "
   ]
  },
  {
   "cell_type": "code",
   "execution_count": 21,
   "metadata": {
    "colab": {
     "base_uri": "https://localhost:8080/",
     "height": 312
    },
    "id": "M0kM6t4zHAiq",
    "outputId": "3013b263-8fdb-4931-fc42-074055b07d12"
   },
   "outputs": [
    {
     "data": {
      "image/png": "[encoded data removed]",
      "text/plain": [
       "<IPython.core.display.Image object>"
      ]
     },
     "execution_count": 21,
     "metadata": {},
     "output_type": "execute_result"
    }
   ],
   "source": [
    "tf.keras.utils.plot_model(model1, show_shapes=True, show_layer_names=False, show_layer_activations=True)"
   ]
  },
  {
   "cell_type": "code",
   "execution_count": 22,
   "metadata": {
    "colab": {
     "base_uri": "https://localhost:8080/"
    },
    "id": "SpjpXMucB06-",
    "outputId": "1473d5eb-22ee-4b28-f08e-d0a80eda3f93"
   },
   "outputs": [
    {
     "name": "stdout",
     "output_type": "stream",
     "text": [
      "Epoch 1/2\n",
      "1564/1564 [==============================] - 6s 3ms/step - loss: 2.9285 - accuracy: 0.8401 - val_loss: 0.7096 - val_accuracy: 0.8968\n",
      "Epoch 2/2\n",
      "1564/1564 [==============================] - 6s 4ms/step - loss: 0.6398 - accuracy: 0.9031 - val_loss: 0.6707 - val_accuracy: 0.9140\n",
      "Epoch 1/2\n",
      "1564/1564 [==============================] - 6s 3ms/step - loss: 2.8663 - accuracy: 0.8330 - val_loss: 0.7774 - val_accuracy: 0.8884\n",
      "Epoch 2/2\n",
      "1564/1564 [==============================] - 6s 4ms/step - loss: 0.6555 - accuracy: 0.9055 - val_loss: 0.7702 - val_accuracy: 0.9147\n",
      "Epoch 1/2\n",
      "1564/1564 [==============================] - 6s 3ms/step - loss: 2.3747 - accuracy: 0.8165 - val_loss: 0.8073 - val_accuracy: 0.8880\n",
      "Epoch 2/2\n",
      "1564/1564 [==============================] - 5s 3ms/step - loss: 0.6633 - accuracy: 0.8986 - val_loss: 0.7489 - val_accuracy: 0.8985\n",
      "Epoch 1/2\n",
      "1564/1564 [==============================] - 6s 3ms/step - loss: 2.1960 - accuracy: 0.8133 - val_loss: 0.6717 - val_accuracy: 0.8881\n",
      "Epoch 2/2\n",
      "1564/1564 [==============================] - 5s 3ms/step - loss: 0.6152 - accuracy: 0.9007 - val_loss: 0.6559 - val_accuracy: 0.9066\n",
      "Epoch 1/2\n",
      "1564/1564 [==============================] - 8s 4ms/step - loss: 2.4593 - accuracy: 0.8176 - val_loss: 0.7819 - val_accuracy: 0.8767\n",
      "Epoch 2/2\n",
      "1564/1564 [==============================] - 6s 4ms/step - loss: 0.6590 - accuracy: 0.8993 - val_loss: 0.8620 - val_accuracy: 0.8934\n",
      "Epoch 1/2\n",
      "1564/1564 [==============================] - 6s 4ms/step - loss: 2.9098 - accuracy: 0.8281 - val_loss: 0.7327 - val_accuracy: 0.8965\n",
      "Epoch 2/2\n",
      "1564/1564 [==============================] - 6s 4ms/step - loss: 0.6334 - accuracy: 0.9061 - val_loss: 0.6658 - val_accuracy: 0.9145\n",
      "Epoch 1/2\n",
      "1564/1564 [==============================] - 7s 4ms/step - loss: 2.3778 - accuracy: 0.8096 - val_loss: 0.8522 - val_accuracy: 0.8833\n",
      "Epoch 2/2\n",
      "1564/1564 [==============================] - 6s 4ms/step - loss: 0.6267 - accuracy: 0.9016 - val_loss: 0.7479 - val_accuracy: 0.8986\n",
      "Epoch 1/2\n",
      "1564/1564 [==============================] - 6s 3ms/step - loss: 2.3466 - accuracy: 0.8167 - val_loss: 0.7533 - val_accuracy: 0.8880\n",
      "Epoch 2/2\n",
      "1564/1564 [==============================] - 5s 3ms/step - loss: 0.5947 - accuracy: 0.9087 - val_loss: 0.6301 - val_accuracy: 0.9133\n",
      "Epoch 1/2\n",
      "1564/1564 [==============================] - 6s 4ms/step - loss: 2.7720 - accuracy: 0.8356 - val_loss: 0.6547 - val_accuracy: 0.8880\n",
      "Epoch 2/2\n",
      "1564/1564 [==============================] - 5s 3ms/step - loss: 0.6168 - accuracy: 0.9054 - val_loss: 0.5520 - val_accuracy: 0.9174\n",
      "Epoch 1/2\n",
      "1564/1564 [==============================] - 6s 3ms/step - loss: 2.5829 - accuracy: 0.8244 - val_loss: 0.7656 - val_accuracy: 0.8951\n",
      "Epoch 2/2\n",
      "1564/1564 [==============================] - 5s 3ms/step - loss: 0.6421 - accuracy: 0.9049 - val_loss: 0.7100 - val_accuracy: 0.9222\n",
      "Average Test Accuracy: 0.912389999628067\n"
     ]
    }
   ],
   "source": [
    "# Architecure 2\n",
    "acc_list = []\n",
    "for i in range(10):\n",
    "  sub_X_train, sub_X_cv, sub_y_train, sub_y_cv = get_train_valid_data(X_train, y_train)\n",
    "# Using RMS prop optimizer\n",
    "  model2 = keras.Sequential(\n",
    "      [\n",
    "          layers.Dense(64, activation=\"relu\", name=\"layer1\"),\n",
    "          layers.Dense(10, activation='softmax', name='outputlayer')\n",
    "      ]\n",
    "  )\n",
    "  model2.compile(optimizer=\"RMSprop\", loss='categorical_crossentropy', metrics=['accuracy'])\n",
    "\n",
    "  history = model2.fit(sub_X_train, sub_y_train, epochs=2, batch_size=32, validation_data=(sub_X_cv, sub_y_cv))\n",
    "\n",
    "  loss, acc = model2.evaluate(X_test, y_test, verbose=0)\n",
    "  acc_list.append(acc)\n",
    "print(\"Average Test Accuracy:\", statistics.mean(acc_list))  "
   ]
  },
  {
   "cell_type": "code",
   "execution_count": 27,
   "metadata": {
    "colab": {
     "base_uri": "https://localhost:8080/",
     "height": 312
    },
    "id": "RqTL7SzoG6EC",
    "outputId": "7c101ffc-414b-4bf8-8aef-8113eb591edb"
   },
   "outputs": [
    {
     "data": {
      "image/png": "[encoded data removed]",
      "text/plain": [
       "<IPython.core.display.Image object>"
      ]
     },
     "execution_count": 27,
     "metadata": {},
     "output_type": "execute_result"
    }
   ],
   "source": [
    "\n",
    "+tf.keras.utils.plot_model(model2, show_shapes=True, show_layer_names=False, show_layer_activations=True)"
   ]
  },
  {
   "cell_type": "code",
   "execution_count": 23,
   "metadata": {
    "colab": {
     "base_uri": "https://localhost:8080/"
    },
    "id": "Ru5gS5ZNB09n",
    "outputId": "8bcf6085-dc17-4012-fbc7-f4db0460b1bd"
   },
   "outputs": [
    {
     "name": "stdout",
     "output_type": "stream",
     "text": [
      "Epoch 1/2\n",
      "1564/1564 [==============================] - 6s 3ms/step - loss: 0.8235 - accuracy: 0.7404 - val_loss: 0.5402 - val_accuracy: 0.8348\n",
      "Epoch 2/2\n",
      "1564/1564 [==============================] - 5s 3ms/step - loss: 0.4631 - accuracy: 0.8612 - val_loss: 0.4392 - val_accuracy: 0.8726\n",
      "Epoch 1/2\n",
      "1564/1564 [==============================] - 6s 4ms/step - loss: 0.9470 - accuracy: 0.7026 - val_loss: 0.6053 - val_accuracy: 0.8205\n",
      "Epoch 2/2\n",
      "1564/1564 [==============================] - 6s 4ms/step - loss: 0.5314 - accuracy: 0.8372 - val_loss: 0.4232 - val_accuracy: 0.8712\n",
      "Epoch 1/2\n",
      "1564/1564 [==============================] - 6s 4ms/step - loss: 0.9030 - accuracy: 0.7118 - val_loss: 0.5439 - val_accuracy: 0.8333\n",
      "Epoch 2/2\n",
      "1564/1564 [==============================] - 6s 4ms/step - loss: 0.4836 - accuracy: 0.8549 - val_loss: 0.4326 - val_accuracy: 0.8705\n",
      "Epoch 1/2\n",
      "1564/1564 [==============================] - 6s 4ms/step - loss: 0.8571 - accuracy: 0.7246 - val_loss: 0.5281 - val_accuracy: 0.8335\n",
      "Epoch 2/2\n",
      "1564/1564 [==============================] - 6s 4ms/step - loss: 0.5009 - accuracy: 0.8413 - val_loss: 0.4683 - val_accuracy: 0.8536\n",
      "Epoch 1/2\n",
      "1564/1564 [==============================] - 6s 4ms/step - loss: 0.8377 - accuracy: 0.7314 - val_loss: 0.5612 - val_accuracy: 0.8288\n",
      "Epoch 2/2\n",
      "1564/1564 [==============================] - 5s 3ms/step - loss: 0.4809 - accuracy: 0.8527 - val_loss: 0.3846 - val_accuracy: 0.8830\n",
      "Epoch 1/2\n",
      "1564/1564 [==============================] - 6s 3ms/step - loss: 0.8522 - accuracy: 0.7348 - val_loss: 0.5371 - val_accuracy: 0.8358\n",
      "Epoch 2/2\n",
      "1564/1564 [==============================] - 5s 3ms/step - loss: 0.4690 - accuracy: 0.8578 - val_loss: 0.4728 - val_accuracy: 0.8565\n",
      "Epoch 1/2\n",
      "1564/1564 [==============================] - 6s 3ms/step - loss: 0.9408 - accuracy: 0.7041 - val_loss: 0.6321 - val_accuracy: 0.7944\n",
      "Epoch 2/2\n",
      "1564/1564 [==============================] - 5s 3ms/step - loss: 0.5168 - accuracy: 0.8426 - val_loss: 0.5262 - val_accuracy: 0.8426\n",
      "Epoch 1/2\n",
      "1564/1564 [==============================] - 7s 3ms/step - loss: 0.9658 - accuracy: 0.6949 - val_loss: 0.5675 - val_accuracy: 0.8257\n",
      "Epoch 2/2\n",
      "1564/1564 [==============================] - 5s 3ms/step - loss: 0.5040 - accuracy: 0.8457 - val_loss: 0.4858 - val_accuracy: 0.8467\n",
      "Epoch 1/2\n",
      "1564/1564 [==============================] - 6s 3ms/step - loss: 0.8589 - accuracy: 0.7261 - val_loss: 0.5342 - val_accuracy: 0.8290\n",
      "Epoch 2/2\n",
      "1564/1564 [==============================] - 5s 3ms/step - loss: 0.5006 - accuracy: 0.8443 - val_loss: 0.4433 - val_accuracy: 0.8666\n",
      "Epoch 1/2\n",
      "1564/1564 [==============================] - 8s 5ms/step - loss: 0.8670 - accuracy: 0.7212 - val_loss: 0.5616 - val_accuracy: 0.8264\n",
      "Epoch 2/2\n",
      "1564/1564 [==============================] - 5s 3ms/step - loss: 0.4966 - accuracy: 0.8463 - val_loss: 0.4571 - val_accuracy: 0.8617\n",
      "Average Test Accuracy: 0.8693100035190582\n"
     ]
    }
   ],
   "source": [
    "# Architecure 3\n",
    "acc_list = []\n",
    "for i in range(10):\n",
    "  sub_X_train, sub_X_cv, sub_y_train, sub_y_cv = get_train_valid_data(X_train, y_train)\n",
    "# Using RMS prop optimizer\n",
    "  model3 = keras.Sequential(\n",
    "      [\n",
    "          layers.Dense(64, activation=\"relu\", name=\"layer1\"),\n",
    "          layers.Dense(32,activation=\"tanh\",name=\"layer2\"),     \n",
    "          layers.Dense(10, activation='softmax', name='outputlayer')\n",
    "      ]\n",
    "  )\n",
    "  model3.compile(optimizer=\"RMSprop\", loss='categorical_crossentropy', metrics=['accuracy'])\n",
    "\n",
    "  history = model3.fit(sub_X_train, sub_y_train, epochs=2, batch_size=32, validation_data=(sub_X_cv, sub_y_cv))\n",
    "\n",
    "  loss, acc = model3.evaluate(X_test, y_test, verbose=0)\n",
    "  acc_list.append(acc)\n",
    "print(\"Average Test Accuracy:\", statistics.mean(acc_list))  "
   ]
  },
  {
   "cell_type": "code",
   "execution_count": 24,
   "metadata": {
    "colab": {
     "base_uri": "https://localhost:8080/",
     "height": 422
    },
    "id": "RNqzdi__G60l",
    "outputId": "d5c605bc-2dac-4e43-fb46-fac68c9cdc8d"
   },
   "outputs": [
    {
     "data": {
      "image/png": "[encoded data removed]",
      "text/plain": [
       "<IPython.core.display.Image object>"
      ]
     },
     "execution_count": 24,
     "metadata": {},
     "output_type": "execute_result"
    }
   ],
   "source": [
    "tf.keras.utils.plot_model(model3, show_shapes=True, show_layer_names=False, show_layer_activations=True)"
   ]
  },
  {
   "cell_type": "code",
   "execution_count": 25,
   "metadata": {
    "colab": {
     "base_uri": "https://localhost:8080/"
    },
    "id": "2R1-7JGVB1A5",
    "outputId": "fb51d1e0-7962-404c-a7ca-442d7a443e07"
   },
   "outputs": [
    {
     "name": "stdout",
     "output_type": "stream",
     "text": [
      "Epoch 1/2\n",
      "1564/1564 [==============================] - 7s 4ms/step - loss: 1.1149 - accuracy: 0.6787 - val_loss: 0.6679 - val_accuracy: 0.8120\n",
      "Epoch 2/2\n",
      "1564/1564 [==============================] - 5s 3ms/step - loss: 0.5544 - accuracy: 0.8439 - val_loss: 0.4696 - val_accuracy: 0.8642\n",
      "Epoch 1/2\n",
      "1564/1564 [==============================] - 6s 3ms/step - loss: 1.0755 - accuracy: 0.7029 - val_loss: 0.5923 - val_accuracy: 0.8317\n",
      "Epoch 2/2\n",
      "1564/1564 [==============================] - 5s 3ms/step - loss: 0.5163 - accuracy: 0.8478 - val_loss: 0.4363 - val_accuracy: 0.8756\n",
      "Epoch 1/2\n",
      "1564/1564 [==============================] - 6s 3ms/step - loss: 1.1135 - accuracy: 0.6800 - val_loss: 0.6164 - val_accuracy: 0.8347\n",
      "Epoch 2/2\n",
      "1564/1564 [==============================] - 5s 3ms/step - loss: 0.5718 - accuracy: 0.8332 - val_loss: 0.5332 - val_accuracy: 0.8418\n",
      "Epoch 1/2\n",
      "1564/1564 [==============================] - 6s 4ms/step - loss: 1.1134 - accuracy: 0.6923 - val_loss: 0.6934 - val_accuracy: 0.7965\n",
      "Epoch 2/2\n",
      "1564/1564 [==============================] - 5s 3ms/step - loss: 0.5753 - accuracy: 0.8293 - val_loss: 0.5069 - val_accuracy: 0.8469\n",
      "Epoch 1/2\n",
      "1564/1564 [==============================] - 6s 3ms/step - loss: 1.1556 - accuracy: 0.6719 - val_loss: 0.7071 - val_accuracy: 0.7981\n",
      "Epoch 2/2\n",
      "1564/1564 [==============================] - 5s 3ms/step - loss: 0.5549 - accuracy: 0.8367 - val_loss: 0.5005 - val_accuracy: 0.8503\n",
      "Epoch 1/2\n",
      "1564/1564 [==============================] - 6s 3ms/step - loss: 1.1715 - accuracy: 0.6538 - val_loss: 0.7237 - val_accuracy: 0.7656\n",
      "Epoch 2/2\n",
      "1564/1564 [==============================] - 5s 3ms/step - loss: 0.5938 - accuracy: 0.8179 - val_loss: 0.5398 - val_accuracy: 0.8366\n",
      "Epoch 1/2\n",
      "1564/1564 [==============================] - 6s 3ms/step - loss: 1.0711 - accuracy: 0.7124 - val_loss: 0.6419 - val_accuracy: 0.8136\n",
      "Epoch 2/2\n",
      "1564/1564 [==============================] - 6s 4ms/step - loss: 0.5462 - accuracy: 0.8409 - val_loss: 0.5016 - val_accuracy: 0.8510\n",
      "Epoch 1/2\n",
      "1564/1564 [==============================] - 6s 3ms/step - loss: 1.1025 - accuracy: 0.6970 - val_loss: 0.6357 - val_accuracy: 0.8186\n",
      "Epoch 2/2\n",
      "1564/1564 [==============================] - 5s 3ms/step - loss: 0.5161 - accuracy: 0.8489 - val_loss: 0.4584 - val_accuracy: 0.8608\n",
      "Epoch 1/2\n",
      "1564/1564 [==============================] - 7s 4ms/step - loss: 1.1001 - accuracy: 0.7128 - val_loss: 0.7358 - val_accuracy: 0.7765\n",
      "Epoch 2/2\n",
      "1564/1564 [==============================] - 5s 3ms/step - loss: 0.5165 - accuracy: 0.8469 - val_loss: 0.4681 - val_accuracy: 0.8571\n",
      "Epoch 1/2\n",
      "1564/1564 [==============================] - 6s 3ms/step - loss: 1.1813 - accuracy: 0.6780 - val_loss: 0.7233 - val_accuracy: 0.7971\n",
      "Epoch 2/2\n",
      "1564/1564 [==============================] - 5s 3ms/step - loss: 0.5880 - accuracy: 0.8282 - val_loss: 0.4931 - val_accuracy: 0.8576\n",
      "Average Test Accuracy: 0.8627099990844727\n"
     ]
    }
   ],
   "source": [
    "# Architecure 4\n",
    "acc_list = []\n",
    "for i in range(10):\n",
    "  sub_X_train, sub_X_cv, sub_y_train, sub_y_cv = get_train_valid_data(X_train, y_train)\n",
    "# Using RMS prop optimizer\n",
    "  model4 = keras.Sequential(\n",
    "      [\n",
    "          layers.Dense(64, activation=\"relu\", name=\"layer1\"),\n",
    "          layers.Dense(32,activation=\"tanh\",name=\"layer2\"),\n",
    "          layers.Dense(16,activation=\"sigmoid\",name=\"layer3\"),      \n",
    "          layers.Dense(10, activation='softmax', name='outputlayer')\n",
    "      ]\n",
    "  )\n",
    "  model4.compile(optimizer=\"RMSprop\", loss='categorical_crossentropy', metrics=['accuracy'])\n",
    "\n",
    "  history = model4.fit(sub_X_train, sub_y_train, epochs=2, batch_size=32, validation_data=(sub_X_cv, sub_y_cv))\n",
    "\n",
    "  loss, acc = model4.evaluate(X_test, y_test, verbose=0)\n",
    "  acc_list.append(acc)\n",
    "print(\"Average Test Accuracy:\", statistics.mean(acc_list))  "
   ]
  },
  {
   "cell_type": "code",
   "execution_count": 26,
   "metadata": {
    "colab": {
     "base_uri": "https://localhost:8080/",
     "height": 533
    },
    "id": "Z9riuOyEG7bh",
    "outputId": "13b9735b-70e2-4bf5-a6a5-a8efd854f2cb"
   },
   "outputs": [
    {
     "data": {
      "image/png": "[encoded data removed]",
      "text/plain": [
       "<IPython.core.display.Image object>"
      ]
     },
     "execution_count": 26,
     "metadata": {},
     "output_type": "execute_result"
    }
   ],
   "source": [
    "tf.keras.utils.plot_model(model4, show_shapes=True, show_layer_names=False, show_layer_activations=True)"
   ]
  },
  {
   "cell_type": "markdown",
   "metadata": {
    "id": "4ng3RXtosomT"
   },
   "source": [
    "Optimizer Evaluation:\n",
    "\n",
    "Architure  | Test Accuracy in %\n",
    "-------------------|------------------\n",
    "SGD            |11.34\n",
    "adam           |60.21\n",
    "RMSprop        |83.6\n",
    "adagrad        |41.7\n",
    "\n"
   ]
  },
  {
   "cell_type": "markdown",
   "metadata": {
    "id": "Hc4t-5imueJM"
   },
   "source": [
    "**BEST OPTIMIZER**\n",
    "RMSprop : 83.6(accuracy)"
   ]
  },
  {
   "cell_type": "markdown",
   "metadata": {
    "id": "Vmg-mxxitv2j"
   },
   "source": [
    "**ARCHITECTURE Evaluation\n",
    "\n",
    "\n",
    "Architure  | Test Accuracy in %\n",
    "-------------------|------------------\n",
    "Model1   |86.25\n",
    "Model2  |91.23\n",
    "Model3 |86.93\n",
    "Model4 | 86.27"
   ]
  }
 ],
 "metadata": {
  "colab": {
   "name": "Assignment5_029358574.ipynb",
   "provenance": []
  },
  "kernelspec": {
   "display_name": "Python 3 (ipykernel)",
   "language": "python",
   "name": "python3"
  },
  "language_info": {
   "codemirror_mode": {
    "name": "ipython",
    "version": 3
   },
   "file_extension": ".py",
   "mimetype": "text/x-python",
   "name": "python",
   "nbconvert_exporter": "python",
   "pygments_lexer": "ipython3",
   "version": "3.9.1"
  }
 },
 "nbformat": 4,
 "nbformat_minor": 1
}
